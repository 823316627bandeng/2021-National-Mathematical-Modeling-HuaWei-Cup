{
 "cells": [
  {
   "cell_type": "markdown",
   "metadata": {},
   "source": [
    "# 处理附件1中的数据"
   ]
  },
  {
   "cell_type": "code",
   "execution_count": null,
   "metadata": {},
   "outputs": [],
   "source": [
    "import pandas as pd\n",
    "import numpy as np\n",
    "import os\n",
    "from pprint import pprint\n",
    "from scipy import interpolate"
   ]
  },
  {
   "cell_type": "markdown",
   "metadata": {},
   "source": [
    "# 1 加载数据"
   ]
  },
  {
   "cell_type": "code",
   "execution_count": null,
   "metadata": {},
   "outputs": [],
   "source": [
    "\n",
    "data_1_hour_predict_raw = pd.read_excel('./data/附件1 监测点A空气质量预报基础数据.xlsx',sheet_name='监测点A逐小时污染物浓度与气象一次预报数据')\n",
    "data_1_hour_actual_raw = pd.read_excel('./data/附件1 监测点A空气质量预报基础数据.xlsx',sheet_name='监测点A逐小时污染物浓度与气象实测数据')\n",
    "data_1_day_actual_raw = pd.read_excel('./data/附件1 监测点A空气质量预报基础数据.xlsx',sheet_name='监测点A逐日污染物浓度实测数据')\n"
   ]
  },
  {
   "cell_type": "code",
   "execution_count": null,
   "metadata": {},
   "outputs": [],
   "source": [
    "df_1_predict = data_1_hour_actual_raw\n",
    "df_1_actual = data_1_day_actual_raw\n",
    "df_1_predict.set_axis(['time', 'place', 'so2','no2','pm10', 'pm2.5', 'o3','co','temperature', 'humidity', 'pressure','wind','direction'], axis='columns', inplace=True)\n",
    "df_1_actual.set_axis(['time', 'place', 'so2','no2','pm10', 'pm2.5', 'o3','co'], axis='columns', inplace=True)\n",
    "\n",
    "modeltime_df_actual = df_1_actual['time']\n",
    "modeltime_df_pre = df_1_predict['time']\n",
    "\n",
    "df_1_actual = df_1_actual.drop(columns=['place','time'])\n",
    "df_1_predict = df_1_predict.drop(columns=['place','time'])\n",
    "df_1_predict = df_1_predict.replace('—', np.nan)\n",
    "df_1_predict = df_1_predict.astype('float')\n",
    "df_1_predict[ df_1_predict< 0 ] = np.nan\n",
    "# 重新插入time列\n",
    "df_1_actual.insert(0, 'time', modeltime_df_actual)\n",
    "df_1_predict.insert(0, 'time', modeltime_df_pre)\n",
    "\n",
    "# 线性插值的方法需要单独处理最后一行的数据\n",
    "data_1_actual = df_1_actual[0:-3]\n",
    "\n",
    "data_1_predict = df_1_predict\n",
    "data_1_predict.iloc[-1:]['pm10'] =22.0\n",
    "\n",
    "data_1_actual_knn = df_1_actual[0:-3]\n",
    "data_1_predict_knn =df_1_predict"
   ]
  },
  {
   "cell_type": "markdown",
   "metadata": {},
   "source": [
    "# 2 插值"
   ]
  },
  {
   "cell_type": "markdown",
   "metadata": {},
   "source": [
    "## 2.1 线性插值"
   ]
  },
  {
   "cell_type": "code",
   "execution_count": null,
   "metadata": {},
   "outputs": [],
   "source": [
    "\n",
    "for indexs in data_1_actual.columns:\n",
    "    if indexs =='time':\n",
    "        continue\n",
    "    data_1_actual['rownum'] = np.arange(data_1_actual.shape[0])\n",
    "    df_nona = data_1_actual.dropna(subset = [indexs])\n",
    "    f = interpolate.interp1d(df_nona['rownum'], df_nona[indexs])\n",
    "    data_1_actual[indexs] = f(data_1_actual['rownum'])\n",
    "\n",
    "data_1_actual = data_1_actual.drop(columns=['rownum'])\n",
    "\n",
    "for indexs in data_1_predict.columns:\n",
    "    if indexs =='time':\n",
    "        continue\n",
    "    data_1_predict['rownum'] = np.arange(data_1_predict.shape[0])\n",
    "    df_nona = data_1_predict.dropna(subset = [indexs])\n",
    "    f = interpolate.interp1d(df_nona['rownum'], df_nona[indexs])\n",
    "    data_1_predict[indexs] = f(data_1_predict['rownum'])\n",
    "data_1_predict = data_1_predict.drop(columns=['rownum'])\n"
   ]
  },
  {
   "cell_type": "code",
   "execution_count": null,
   "metadata": {},
   "outputs": [],
   "source": []
  },
  {
   "cell_type": "code",
   "execution_count": null,
   "metadata": {},
   "outputs": [],
   "source": [
    "writer=pd.ExcelWriter('data/data_1_linear.xlsx')   #定义writer\n",
    "data_1_hour_predict_raw.to_excel(writer,'监测点A逐小时污染物浓度与气象一次预报数据',index=False) \n",
    "data_1_predict.to_excel(writer,'监测点A逐小时污染物浓度与气象实测数据',index=False) # writer---writer；sheet名称---原始表（35698）\n",
    "data_1_actual.to_excel(writer,'监测点A逐日污染物浓度实测数据',index=False)\n",
    "\n",
    "writer.save()"
   ]
  },
  {
   "cell_type": "code",
   "execution_count": null,
   "metadata": {},
   "outputs": [],
   "source": [
    "data_1_predict"
   ]
  },
  {
   "cell_type": "markdown",
   "metadata": {},
   "source": [
    "## 2.2 KNN插值"
   ]
  },
  {
   "cell_type": "code",
   "execution_count": null,
   "metadata": {},
   "outputs": [],
   "source": [
    "\n",
    "def knn_mean(ts, n):\n",
    "    out = np.copy(ts)\n",
    "    for i, val in enumerate(ts):\n",
    "        if np.isnan(val):\n",
    "            n_by_2 = np.ceil(n/2)\n",
    "            lower = np.max([0, int(i-n_by_2)])\n",
    "            upper = np.min([len(ts)+1, int(i+n_by_2)])\n",
    "            ts_near = np.concatenate([ts[lower:i], ts[i:upper]])\n",
    "            out[i] = np.nanmean(ts_near)\n",
    "    return out\n",
    "for indexs in data_1_actual_knn.columns:\n",
    "    if indexs =='time':\n",
    "        continue\n",
    "    data_1_actual_knn[indexs] = knn_mean(data_1_actual_knn[indexs].values,8)\n",
    "for indexs in data_1_predict_knn.columns:\n",
    "    if indexs =='time':\n",
    "        continue\n",
    "    data_1_predict_knn[indexs] = knn_mean(data_1_predict_knn[indexs].values,8)"
   ]
  },
  {
   "cell_type": "code",
   "execution_count": null,
   "metadata": {},
   "outputs": [],
   "source": [
    "writer=pd.ExcelWriter('data/data_1_knn.xlsx')   #定义writer\n",
    "\n",
    "data_1_hour_predict_raw.to_excel(writer,'监测点A逐小时污染物浓度与气象一次预报数据',index=False) \n",
    "data_1_predict_knn.to_excel(writer,'监测点A逐小时污染物浓度与气象实测数据',index=False) # writer---writer；sheet名称---原始表（35698）\n",
    "data_1_actual_knn.to_excel(writer,'监测点A逐日污染物浓度实测数据',index=False)\n",
    "\n",
    "writer.save()"
   ]
  },
  {
   "cell_type": "code",
   "execution_count": null,
   "metadata": {},
   "outputs": [],
   "source": [
    "data_1_predict_knn"
   ]
  }
 ],
 "metadata": {
  "interpreter": {
   "hash": "cd78fef2128015050713e82ca51c6520b11aee7c9ee8df750520bbbc7384cbaa"
  },
  "kernelspec": {
   "display_name": "Python 3.8.5 64-bit ('base': conda)",
   "name": "python3"
  },
  "language_info": {
   "codemirror_mode": {
    "name": "ipython",
    "version": 3
   },
   "file_extension": ".py",
   "mimetype": "text/x-python",
   "name": "python",
   "nbconvert_exporter": "python",
   "pygments_lexer": "ipython3",
   "version": "3.8.5"
  }
 },
 "nbformat": 4,
 "nbformat_minor": 2
}
